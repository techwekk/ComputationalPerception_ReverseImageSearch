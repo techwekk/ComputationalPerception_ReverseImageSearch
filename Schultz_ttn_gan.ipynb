{
  "nbformat": 4,
  "nbformat_minor": 0,
  "metadata": {
    "colab": {
      "name": "Schultz_ttn-gan.ipynb",
      "private_outputs": true,
      "provenance": [],
      "include_colab_link": true
    },
    "kernelspec": {
      "name": "python3",
      "display_name": "Python 3"
    },
    "language_info": {
      "name": "python"
    },
    "accelerator": "GPU"
  },
  "cells": [
    {
      "cell_type": "markdown",
      "metadata": {
        "id": "view-in-github",
        "colab_type": "text"
      },
      "source": [
        "<a href=\"https://colab.research.google.com/github/techwekk/ComputationalPerception_ReverseImageSearch/blob/main/Schultz_ttn_gan.ipynb\" target=\"_parent\"><img src=\"https://colab.research.google.com/assets/colab-badge.svg\" alt=\"Open In Colab\"/></a>"
      ]
    },
    {
      "cell_type": "markdown",
      "metadata": {
        "id": "OYfXqQQX-OoL"
      },
      "source": [
        "# Attn-GAN\n",
        "Before CLIP-VQGAN, there was Attn-GAN."
      ]
    },
    {
      "cell_type": "markdown",
      "metadata": {
        "id": "icFcPclX-LZV"
      },
      "source": [
        "## Check GPU"
      ]
    },
    {
      "cell_type": "code",
      "metadata": {
        "id": "zD2ZDX5_L3t3"
      },
      "source": [
        "!nvidia-smi"
      ],
      "execution_count": null,
      "outputs": []
    },
    {
      "cell_type": "markdown",
      "metadata": {
        "id": "_7_F6dV197cV"
      },
      "source": [
        "If the above says `A100-SXM4-40GB`, run the following line. Otherwise skip it."
      ]
    },
    {
      "cell_type": "code",
      "metadata": {
        "id": "uiHtJv1ZeQMB"
      },
      "source": [
        "!pip3 install torch==1.9.1+cu111 torchvision==0.10.1+cu111 torchaudio==0.9.1 -f https://download.pytorch.org/whl/torch_stable.html!pip3 install torch==1.9.1+cu111 torchvision==0.10.1+cu111 torchaudio==0.9.1 -f https://download.pytorch.org/whl/torch_stable.html"
      ],
      "execution_count": null,
      "outputs": []
    },
    {
      "cell_type": "markdown",
      "metadata": {
        "id": "8yT38bZC-DB1"
      },
      "source": [
        "## Set up Repo"
      ]
    },
    {
      "cell_type": "code",
      "metadata": {
        "id": "e5LvQ9AWLyTA"
      },
      "source": [
        "!git clone https://github.com/dvschultz/AttnGAN"
      ],
      "execution_count": null,
      "outputs": []
    },
    {
      "cell_type": "markdown",
      "metadata": {
        "id": "aIBY7ZFD-GXf"
      },
      "source": [
        "## Install pre-trained model and data"
      ]
    },
    {
      "cell_type": "code",
      "metadata": {
        "id": "eoepDbyEL_GY"
      },
      "source": [
        "# attn-gan bird model\n",
        "# wont work ATM\n",
        "!gdown --id 1lqNG75suOuR_8gjoEPYNp8VyT_ufPPig"
      ],
      "execution_count": null,
      "outputs": []
    },
    {
      "cell_type": "code",
      "metadata": {
        "id": "Y6bInWMmMPPT"
      },
      "source": [
        "# download all data for attn-gan coco model\n",
        "\n",
        "#download pre-trained model\n",
        "!gdown --id 1i9Xkg9nU74RAvkcqKE-rJYhjvzKAMnCi -O /content/AttnGAN/models/coco_AttnGAN2.pth\n",
        "\n",
        "#download test/train captions\n",
        "!gdown --id 1rSnbIGNDGZeHlsUlLdahj0RJ9oo6lgH9 -O /content/AttnGAN/data/coco.zip\n",
        "%cd /content/AttnGAN/data/\n",
        "!unzip coco.zip\n",
        "!rm coco.zip\n",
        "!rm -rf /content/AttnGAN/data/__MACOSX\n",
        "%cd coco\n",
        "!unzip /content/AttnGAN/data/coco/val2014-text.zip\n",
        "!mv /content/AttnGAN/data/coco/val2014 /content/AttnGAN/data/coco/text\n",
        "\n",
        "#download encoder\n",
        "!gdown --id 1zIrXCE9F6yfbEJIbNP5-YrEe2pZcPSGJ -O /content/AttnGAN/DAMSMencoders/coco.zip\n",
        "%cd /content/AttnGAN/DAMSMencoders\n",
        "!unzip coco.zip\n",
        "!rm coco.zip\n",
        "\n",
        "#download font !wget https://github.com/opensourcedesign/fonts/blob/master/gnu-freefont_freemono/FreeMono.ttf -P /content/\n",
        "!wget https://github.com/opensourcedesign/fonts/blob/master/gnu-freefont_freemono/FreeMono.ttf?raw=true -P /content/\n",
        "!mv /content/FreeMono.ttf?raw=true /content/FreeMono.ttf\n",
        "\n",
        "#go home\n",
        "%cd /content/AttnGAN/code"
      ],
      "execution_count": null,
      "outputs": []
    },
    {
      "cell_type": "code",
      "metadata": {
        "id": "GZFahRPI1-Uu"
      },
      "source": [
        "# Below this line write all of the captions. Put each caption on a new line.\n",
        "%%writefile /content/AttnGAN/data/coco/example_filenames.txt\n",
        "example_captions"
      ],
      "execution_count": null,
      "outputs": []
    },
    {
      "cell_type": "markdown",
      "metadata": {
        "id": "EoywXcVY9oFV"
      },
      "source": [
        "## Create captions\n",
        "Now we can write some captions. Add each caption on a new line below"
      ]
    },
    {
      "cell_type": "code",
      "metadata": {
        "id": "YchyNrrK0mAz"
      },
      "source": [
        "# Below this line write all of the captions. Put each caption on a new line.\n",
        "%%writefile /content/AttnGAN/data/coco/example_captions.txt\n",
        "There was a red dog in the park\n",
        "A yellow car on a road\n",
        "Now this is a story all about how\n",
        "My life got flipped turned upside down\n",
        "And I'd like to take a minute, just sit right there\n",
        "I'll tell you how I became the prince of a town called Bel-Air\n",
        "In West Philadelphia born and raised\n",
        "On the playground is where I spent most of my days\n",
        "Chillin' out, maxin', relaxin' all cool\n",
        "And all shootin' some b-ball outside of the school\n",
        "When a couple of guys who were up to no good\n",
        "Started makin' trouble in my neighborhood\n",
        "I got in one little fight and my mom got scared\n",
        "And said \"You're movin' with your auntie and uncle in Bel-Air\"\n",
        "I begged and pleaded with her day after day\n",
        "But she packed my suitcase and sent me on my way\n",
        "She gave me a kiss and then she gave me my ticket\n",
        "I put my Walkman on and said \"I might as well kick it\"\n",
        "First class, yo, this is bad\n",
        "Drinking orange juice out of a champagne glass\n",
        "Is this what the people of Bel-Air living like?\n",
        "Hmm, this might be all right\n",
        "But wait, I hear they're prissy, bourgeois, and all that\n",
        "Is this the type of place that they should send this cool cat?\n",
        "I don't think so, I'll see when I get there\n",
        "I hope they're prepared for the Prince of Bel-Air"
      ],
      "execution_count": null,
      "outputs": []
    },
    {
      "cell_type": "markdown",
      "metadata": {
        "id": "0iZTvNBj-ffm"
      },
      "source": [
        "## Run"
      ]
    },
    {
      "cell_type": "code",
      "metadata": {
        "id": "sO5Fn75kMeK5"
      },
      "source": [
        "!python /content/AttnGAN/code/main.py --cfg /content/AttnGAN/code/cfg/eval_coco.yml --gpu 0"
      ],
      "execution_count": null,
      "outputs": []
    },
    {
      "cell_type": "markdown",
      "metadata": {
        "id": "J-8uI49k2kRx"
      },
      "source": [
        "Run the following cell to delete your folder of results."
      ]
    },
    {
      "cell_type": "markdown",
      "metadata": {
        "id": "wlXfFPGN-hwU"
      },
      "source": [
        "## Cleanup"
      ]
    },
    {
      "cell_type": "code",
      "metadata": {
        "id": "3fqk2h5_UcjB"
      },
      "source": [
        "!rm -rf /content/AttnGAN/models/coco_AttnGAN2"
      ],
      "execution_count": null,
      "outputs": []
    }
  ]
}